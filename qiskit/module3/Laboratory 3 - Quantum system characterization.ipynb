{
 "cells": [
  {
   "cell_type": "markdown",
   "metadata": {},
   "source": [
    "<center><p style=\"font-size:30px\">Quantum Circuits and Devices / Laboratory 3</p></center>\n",
    "<center><p style=\"font-size:30px\">Quantum system characterization</p></center>"
   ]
  },
  {
   "cell_type": "markdown",
   "metadata": {},
   "source": [
    "## Table of Contents <a class=\"anchor\" id=\"table-of-contents\"></a>\n",
    "\n",
    "1. [Modeling nonideal quantum systems](#nonideal-model)\n",
    "2. [Rough drive frequency calibration](#rough-calibration)\n",
    "3. [Precise frequency tuning: Ramsey experiment](#ramsey-experiment)\n",
    "4. [$T_1$ Characterization: inversion recovery](#inversion-recovery)\n",
    "5. [$T_2$ Characterization: Hahn ecoes](#hahn-echoes)\n",
    "\n",
    "In this laboratory, we perform common characterization experiments of a realistic quantum computing system. We will make use of the Qiskit Dynamics extension, that can be installed with the following cell. "
   ]
  },
  {
   "cell_type": "markdown",
   "metadata": {},
   "source": [
    "### Requirements and helpers"
   ]
  },
  {
   "cell_type": "code",
   "execution_count": 1,
   "metadata": {},
   "outputs": [
    {
     "name": "stdout",
     "output_type": "stream",
     "text": [
      "Requirement already satisfied: qiskit==1.2.4 in /Users/baset/Documents/Academia/Qiskit/virtual_env_of_qiskit/lib/python3.8/site-packages (1.2.4)\n",
      "Collecting qiskit-ibm-runtime\n",
      "  Downloading qiskit_ibm_runtime-0.34.0-py3-none-any.whl.metadata (3.0 kB)\n",
      "Collecting qiskit_aer\n",
      "  Downloading qiskit_aer-0.16.0-cp38-cp38-macosx_10_9_x86_64.whl.metadata (8.0 kB)\n",
      "Requirement already satisfied: qiskit-dynamics in /Users/baset/Documents/Academia/Qiskit/virtual_env_of_qiskit/lib/python3.8/site-packages (0.4.5)\n",
      "Requirement already satisfied: rustworkx>=0.15.0 in /Users/baset/Documents/Academia/Qiskit/virtual_env_of_qiskit/lib/python3.8/site-packages (from qiskit==1.2.4) (0.15.1)\n",
      "Requirement already satisfied: numpy<3,>=1.17 in /Users/baset/Documents/Academia/Qiskit/virtual_env_of_qiskit/lib/python3.8/site-packages (from qiskit==1.2.4) (1.24.4)\n",
      "Requirement already satisfied: scipy>=1.5 in /Users/baset/Documents/Academia/Qiskit/virtual_env_of_qiskit/lib/python3.8/site-packages (from qiskit==1.2.4) (1.10.1)\n",
      "Requirement already satisfied: sympy>=1.3 in /Users/baset/Documents/Academia/Qiskit/virtual_env_of_qiskit/lib/python3.8/site-packages (from qiskit==1.2.4) (1.13.3)\n",
      "Requirement already satisfied: dill>=0.3 in /Users/baset/Documents/Academia/Qiskit/virtual_env_of_qiskit/lib/python3.8/site-packages (from qiskit==1.2.4) (0.3.9)\n",
      "Requirement already satisfied: python-dateutil>=2.8.0 in /Users/baset/Documents/Academia/Qiskit/virtual_env_of_qiskit/lib/python3.8/site-packages (from qiskit==1.2.4) (2.9.0.post0)\n",
      "Requirement already satisfied: stevedore>=3.0.0 in /Users/baset/Documents/Academia/Qiskit/virtual_env_of_qiskit/lib/python3.8/site-packages (from qiskit==1.2.4) (5.3.0)\n",
      "Requirement already satisfied: typing-extensions in /Users/baset/Documents/Academia/Qiskit/virtual_env_of_qiskit/lib/python3.8/site-packages (from qiskit==1.2.4) (4.12.2)\n",
      "Requirement already satisfied: symengine<0.14,>=0.11 in /Users/baset/Documents/Academia/Qiskit/virtual_env_of_qiskit/lib/python3.8/site-packages (from qiskit==1.2.4) (0.13.0)\n",
      "Requirement already satisfied: requests>=2.19 in /Users/baset/Documents/Academia/Qiskit/virtual_env_of_qiskit/lib/python3.8/site-packages (from qiskit-ibm-runtime) (2.32.3)\n",
      "Collecting requests-ntlm>=1.1.0 (from qiskit-ibm-runtime)\n",
      "  Using cached requests_ntlm-1.3.0-py3-none-any.whl.metadata (2.4 kB)\n",
      "Requirement already satisfied: urllib3>=1.21.1 in /Users/baset/Documents/Academia/Qiskit/virtual_env_of_qiskit/lib/python3.8/site-packages (from qiskit-ibm-runtime) (2.2.3)\n",
      "Requirement already satisfied: websocket-client>=1.5.1 in /Users/baset/Documents/Academia/Qiskit/virtual_env_of_qiskit/lib/python3.8/site-packages (from qiskit-ibm-runtime) (1.8.0)\n",
      "Collecting ibm-platform-services>=0.22.6 (from qiskit-ibm-runtime)\n",
      "  Using cached ibm_platform_services-0.59.0-py3-none-any.whl.metadata (9.0 kB)\n",
      "Collecting pydantic<2.10,>=2.5.0 (from qiskit-ibm-runtime)\n",
      "  Using cached pydantic-2.9.2-py3-none-any.whl.metadata (149 kB)\n",
      "Requirement already satisfied: psutil>=5 in /Users/baset/Documents/Academia/Qiskit/virtual_env_of_qiskit/lib/python3.8/site-packages (from qiskit_aer) (6.1.1)\n",
      "Requirement already satisfied: matplotlib>=3.0 in /Users/baset/Documents/Academia/Qiskit/virtual_env_of_qiskit/lib/python3.8/site-packages (from qiskit-dynamics) (3.7.5)\n",
      "Requirement already satisfied: multiset>=3.0.1 in /Users/baset/Documents/Academia/Qiskit/virtual_env_of_qiskit/lib/python3.8/site-packages (from qiskit-dynamics) (3.2.0)\n",
      "Collecting ibm-cloud-sdk-core<4.0.0,>=3.22.0 (from ibm-platform-services>=0.22.6->qiskit-ibm-runtime)\n",
      "  Using cached ibm_cloud_sdk_core-3.22.0-py3-none-any.whl.metadata (8.6 kB)\n",
      "Requirement already satisfied: contourpy>=1.0.1 in /Users/baset/Documents/Academia/Qiskit/virtual_env_of_qiskit/lib/python3.8/site-packages (from matplotlib>=3.0->qiskit-dynamics) (1.1.1)\n",
      "Requirement already satisfied: cycler>=0.10 in /Users/baset/Documents/Academia/Qiskit/virtual_env_of_qiskit/lib/python3.8/site-packages (from matplotlib>=3.0->qiskit-dynamics) (0.12.1)\n",
      "Requirement already satisfied: fonttools>=4.22.0 in /Users/baset/Documents/Academia/Qiskit/virtual_env_of_qiskit/lib/python3.8/site-packages (from matplotlib>=3.0->qiskit-dynamics) (4.55.6)\n",
      "Requirement already satisfied: kiwisolver>=1.0.1 in /Users/baset/Documents/Academia/Qiskit/virtual_env_of_qiskit/lib/python3.8/site-packages (from matplotlib>=3.0->qiskit-dynamics) (1.4.7)\n",
      "Requirement already satisfied: packaging>=20.0 in /Users/baset/Documents/Academia/Qiskit/virtual_env_of_qiskit/lib/python3.8/site-packages (from matplotlib>=3.0->qiskit-dynamics) (24.2)\n",
      "Requirement already satisfied: pillow>=6.2.0 in /Users/baset/Documents/Academia/Qiskit/virtual_env_of_qiskit/lib/python3.8/site-packages (from matplotlib>=3.0->qiskit-dynamics) (10.4.0)\n",
      "Requirement already satisfied: pyparsing>=2.3.1 in /Users/baset/Documents/Academia/Qiskit/virtual_env_of_qiskit/lib/python3.8/site-packages (from matplotlib>=3.0->qiskit-dynamics) (3.1.4)\n",
      "Requirement already satisfied: importlib-resources>=3.2.0 in /Users/baset/Documents/Academia/Qiskit/virtual_env_of_qiskit/lib/python3.8/site-packages (from matplotlib>=3.0->qiskit-dynamics) (6.4.5)\n",
      "Collecting annotated-types>=0.6.0 (from pydantic<2.10,>=2.5.0->qiskit-ibm-runtime)\n",
      "  Using cached annotated_types-0.7.0-py3-none-any.whl.metadata (15 kB)\n",
      "Collecting pydantic-core==2.23.4 (from pydantic<2.10,>=2.5.0->qiskit-ibm-runtime)\n",
      "  Using cached pydantic_core-2.23.4-cp38-cp38-macosx_10_12_x86_64.whl.metadata (6.6 kB)\n",
      "Requirement already satisfied: six>=1.5 in /Users/baset/Documents/Academia/Qiskit/virtual_env_of_qiskit/lib/python3.8/site-packages (from python-dateutil>=2.8.0->qiskit==1.2.4) (1.17.0)\n",
      "Requirement already satisfied: charset-normalizer<4,>=2 in /Users/baset/Documents/Academia/Qiskit/virtual_env_of_qiskit/lib/python3.8/site-packages (from requests>=2.19->qiskit-ibm-runtime) (3.4.1)\n",
      "Requirement already satisfied: idna<4,>=2.5 in /Users/baset/Documents/Academia/Qiskit/virtual_env_of_qiskit/lib/python3.8/site-packages (from requests>=2.19->qiskit-ibm-runtime) (3.10)\n",
      "Requirement already satisfied: certifi>=2017.4.17 in /Users/baset/Documents/Academia/Qiskit/virtual_env_of_qiskit/lib/python3.8/site-packages (from requests>=2.19->qiskit-ibm-runtime) (2024.12.14)\n",
      "Collecting cryptography>=1.3 (from requests-ntlm>=1.1.0->qiskit-ibm-runtime)\n",
      "  Downloading cryptography-44.0.0-cp37-abi3-macosx_10_9_universal2.whl.metadata (5.7 kB)\n",
      "Collecting pyspnego>=0.4.0 (from requests-ntlm>=1.1.0->qiskit-ibm-runtime)\n",
      "  Using cached pyspnego-0.11.2-py3-none-any.whl.metadata (5.4 kB)\n",
      "Requirement already satisfied: pbr>=2.0.0 in /Users/baset/Documents/Academia/Qiskit/virtual_env_of_qiskit/lib/python3.8/site-packages (from stevedore>=3.0.0->qiskit==1.2.4) (6.1.0)\n",
      "Requirement already satisfied: mpmath<1.4,>=1.1.0 in /Users/baset/Documents/Academia/Qiskit/virtual_env_of_qiskit/lib/python3.8/site-packages (from sympy>=1.3->qiskit==1.2.4) (1.3.0)\n",
      "Requirement already satisfied: cffi>=1.12 in /Users/baset/Documents/Academia/Qiskit/virtual_env_of_qiskit/lib/python3.8/site-packages (from cryptography>=1.3->requests-ntlm>=1.1.0->qiskit-ibm-runtime) (1.17.1)\n",
      "Collecting PyJWT<3.0.0,>=2.8.0 (from ibm-cloud-sdk-core<4.0.0,>=3.22.0->ibm-platform-services>=0.22.6->qiskit-ibm-runtime)\n",
      "  Using cached PyJWT-2.9.0-py3-none-any.whl.metadata (3.0 kB)\n",
      "Requirement already satisfied: zipp>=3.1.0 in /Users/baset/Documents/Academia/Qiskit/virtual_env_of_qiskit/lib/python3.8/site-packages (from importlib-resources>=3.2.0->matplotlib>=3.0->qiskit-dynamics) (3.20.2)\n",
      "Requirement already satisfied: pycparser in /Users/baset/Documents/Academia/Qiskit/virtual_env_of_qiskit/lib/python3.8/site-packages (from cffi>=1.12->cryptography>=1.3->requests-ntlm>=1.1.0->qiskit-ibm-runtime) (2.22)\n",
      "Downloading qiskit_ibm_runtime-0.34.0-py3-none-any.whl (3.0 MB)\n",
      "\u001b[2K   \u001b[90m━━━━━━━━━━━━━━━━━━━━━━━━━━━━━━━━━━━━━━━━\u001b[0m \u001b[32m3.0/3.0 MB\u001b[0m \u001b[31m8.4 MB/s\u001b[0m eta \u001b[36m0:00:00\u001b[0ma \u001b[36m0:00:01\u001b[0m\n",
      "Downloading qiskit_aer-0.16.0-cp38-cp38-macosx_10_9_x86_64.whl (2.5 MB)\n",
      "\u001b[2K   \u001b[90m━━━━━━━━━━━━━━━━━━━━━━━━━━━━━━━━━━━━━━━━\u001b[0m \u001b[32m2.5/2.5 MB\u001b[0m \u001b[31m6.6 MB/s\u001b[0m eta \u001b[36m0:00:00\u001b[0ma \u001b[36m0:00:01\u001b[0m\n",
      "\u001b[?25hUsing cached ibm_platform_services-0.59.0-py3-none-any.whl (340 kB)\n",
      "Using cached pydantic-2.9.2-py3-none-any.whl (434 kB)\n",
      "Using cached pydantic_core-2.23.4-cp38-cp38-macosx_10_12_x86_64.whl (1.9 MB)\n",
      "Using cached requests_ntlm-1.3.0-py3-none-any.whl (6.6 kB)\n",
      "Using cached annotated_types-0.7.0-py3-none-any.whl (13 kB)\n",
      "Downloading cryptography-44.0.0-cp37-abi3-macosx_10_9_universal2.whl (6.5 MB)\n",
      "\u001b[2K   \u001b[90m━━━━━━━━━━━━━━━━━━━━━━━━━━━━━━━━━━━━━━━━\u001b[0m \u001b[32m6.5/6.5 MB\u001b[0m \u001b[31m3.9 MB/s\u001b[0m eta \u001b[36m0:00:00\u001b[0ma \u001b[36m0:00:01\u001b[0mm\n",
      "\u001b[?25hUsing cached ibm_cloud_sdk_core-3.22.0-py3-none-any.whl (69 kB)\n",
      "Using cached pyspnego-0.11.2-py3-none-any.whl (130 kB)\n",
      "Using cached PyJWT-2.9.0-py3-none-any.whl (22 kB)\n",
      "Installing collected packages: PyJWT, pydantic-core, annotated-types, pydantic, ibm-cloud-sdk-core, cryptography, qiskit_aer, pyspnego, ibm-platform-services, requests-ntlm, qiskit-ibm-runtime\n",
      "Successfully installed PyJWT-2.9.0 annotated-types-0.7.0 cryptography-44.0.0 ibm-cloud-sdk-core-3.22.0 ibm-platform-services-0.59.0 pydantic-2.9.2 pydantic-core-2.23.4 pyspnego-0.11.2 qiskit-ibm-runtime-0.34.0 qiskit_aer-0.16.0 requests-ntlm-1.3.0\n",
      "Note: you may need to restart the kernel to use updated packages.\n",
      "Requirement already satisfied: matplotlib in /Users/baset/Documents/Academia/Qiskit/virtual_env_of_qiskit/lib/python3.8/site-packages (3.7.5)\n",
      "Collecting pylatexenc\n",
      "  Using cached pylatexenc-2.10-py3-none-any.whl\n",
      "Collecting seaborn\n",
      "  Downloading seaborn-0.13.2-py3-none-any.whl.metadata (5.4 kB)\n",
      "Requirement already satisfied: contourpy>=1.0.1 in /Users/baset/Documents/Academia/Qiskit/virtual_env_of_qiskit/lib/python3.8/site-packages (from matplotlib) (1.1.1)\n",
      "Requirement already satisfied: cycler>=0.10 in /Users/baset/Documents/Academia/Qiskit/virtual_env_of_qiskit/lib/python3.8/site-packages (from matplotlib) (0.12.1)\n",
      "Requirement already satisfied: fonttools>=4.22.0 in /Users/baset/Documents/Academia/Qiskit/virtual_env_of_qiskit/lib/python3.8/site-packages (from matplotlib) (4.55.6)\n",
      "Requirement already satisfied: kiwisolver>=1.0.1 in /Users/baset/Documents/Academia/Qiskit/virtual_env_of_qiskit/lib/python3.8/site-packages (from matplotlib) (1.4.7)\n",
      "Requirement already satisfied: numpy<2,>=1.20 in /Users/baset/Documents/Academia/Qiskit/virtual_env_of_qiskit/lib/python3.8/site-packages (from matplotlib) (1.24.4)\n",
      "Requirement already satisfied: packaging>=20.0 in /Users/baset/Documents/Academia/Qiskit/virtual_env_of_qiskit/lib/python3.8/site-packages (from matplotlib) (24.2)\n",
      "Requirement already satisfied: pillow>=6.2.0 in /Users/baset/Documents/Academia/Qiskit/virtual_env_of_qiskit/lib/python3.8/site-packages (from matplotlib) (10.4.0)\n",
      "Requirement already satisfied: pyparsing>=2.3.1 in /Users/baset/Documents/Academia/Qiskit/virtual_env_of_qiskit/lib/python3.8/site-packages (from matplotlib) (3.1.4)\n",
      "Requirement already satisfied: python-dateutil>=2.7 in /Users/baset/Documents/Academia/Qiskit/virtual_env_of_qiskit/lib/python3.8/site-packages (from matplotlib) (2.9.0.post0)\n",
      "Requirement already satisfied: importlib-resources>=3.2.0 in /Users/baset/Documents/Academia/Qiskit/virtual_env_of_qiskit/lib/python3.8/site-packages (from matplotlib) (6.4.5)\n",
      "Collecting pandas>=1.2 (from seaborn)\n",
      "  Using cached pandas-2.0.3-cp38-cp38-macosx_10_9_x86_64.whl.metadata (18 kB)\n",
      "Requirement already satisfied: zipp>=3.1.0 in /Users/baset/Documents/Academia/Qiskit/virtual_env_of_qiskit/lib/python3.8/site-packages (from importlib-resources>=3.2.0->matplotlib) (3.20.2)\n",
      "Requirement already satisfied: pytz>=2020.1 in /Users/baset/Documents/Academia/Qiskit/virtual_env_of_qiskit/lib/python3.8/site-packages (from pandas>=1.2->seaborn) (2024.2)\n",
      "Collecting tzdata>=2022.1 (from pandas>=1.2->seaborn)\n",
      "  Downloading tzdata-2025.1-py2.py3-none-any.whl.metadata (1.4 kB)\n",
      "Requirement already satisfied: six>=1.5 in /Users/baset/Documents/Academia/Qiskit/virtual_env_of_qiskit/lib/python3.8/site-packages (from python-dateutil>=2.7->matplotlib) (1.17.0)\n",
      "Downloading seaborn-0.13.2-py3-none-any.whl (294 kB)\n",
      "Using cached pandas-2.0.3-cp38-cp38-macosx_10_9_x86_64.whl (11.7 MB)\n",
      "Downloading tzdata-2025.1-py2.py3-none-any.whl (346 kB)\n",
      "Installing collected packages: pylatexenc, tzdata, pandas, seaborn\n",
      "Successfully installed pandas-2.0.3 pylatexenc-2.10 seaborn-0.13.2 tzdata-2025.1\n",
      "Note: you may need to restart the kernel to use updated packages.\n"
     ]
    }
   ],
   "source": [
    "%pip install qiskit==1.2.4 qiskit-ibm-runtime qiskit_aer qiskit-dynamics\n",
    "%pip install matplotlib pylatexenc seaborn\n",
    "\n",
    "from qiskit.quantum_info import Operator, DensityMatrix\n",
    "from qiskit_dynamics import Solver, DynamicsBackend\n",
    "from qiskit.circuit import Parameter  \n",
    "import qiskit.pulse as pulse\n",
    "import numpy as np\n",
    "import matplotlib.pyplot as plt\n",
    "from scipy.optimize import curve_fit\n",
    "from IPython import display\n",
    "\n",
    "def fit_function(x_values, y_values, function, init_params):\n",
    "    fitparams, conv = curve_fit(function, x_values, y_values, init_params)\n",
    "    y_fit = function(x_values, *fitparams)\n",
    "    return fitparams, y_fit"
   ]
  },
  {
   "cell_type": "markdown",
   "metadata": {},
   "source": [
    "## Modeling nonideal quantum systems<a class=\"anchor\" id=\"nonideal-model\"></a>"
   ]
  },
  {
   "cell_type": "markdown",
   "metadata": {},
   "source": [
    "In the previous laboratory, we considered an idealized two-level qubit model with a perfectly resonant driving field: \n",
    "\n",
    "\\begin{align}\n",
    "\\frac{\\mathcal{H}}{\\hbar} = \\frac12 \\omega \\hat{\\sigma}_z + \\Omega \\cos(\\omega t)\\hat{\\sigma}_x\n",
    "\\end{align}\n",
    "\n",
    "Today, we move towards a more realistic quantum system by considering a two-level qubit model with a near-resonance driving: \n",
    "\\begin{align}\n",
    "\\frac{\\mathcal{H}}{\\hbar} = \\frac12 \\omega \\hat{\\sigma}_z + \\Omega \\cos(\\omega_d t)\\hat{\\sigma}_x\n",
    "\\end{align}\n",
    "\n",
    "Additionally, we include energy relaxation and dephasing effects, which are described by Lindbladian dissipators. The energy relaxation Lindbladian reads: \n",
    "\\begin{align}\n",
    "\\mathcal{D}_1[\\rho] = \\Gamma_1\\bigg(\\hat{\\sigma}_+\\rho\\hat{\\sigma}_- - \\frac12\\{\\hat{\\sigma}_-\\hat{\\sigma}_+,\\rho\\}\\bigg)\n",
    "\\end{align}\n",
    "where $\\hat{\\sigma}_\\pm = \\frac12(\\hat{\\sigma}_x\\pm j\\hat{\\sigma}_y)$ and $\\rho$ is the qubit's density matrix. Conversely, the dephasing Lindbladian reads: \n",
    "\\begin{align}\n",
    "\\mathcal{D}_2[\\rho] = \\Gamma_2 (\\hat{\\sigma}_z\\rho\\hat{\\sigma}_z- \\rho) \n",
    "\\end{align}\n",
    "\n",
    "Overall, the dissipating system is modeled by the Lindblad master equation: \n",
    "\\begin{align}\n",
    "\\frac{\\partial\\rho}{\\partial t} = -\\frac{i}{\\hbar}[\\mathcal{H},\\rho] +\\mathcal{D}[\\rho]\n",
    "\\end{align}\n",
    "\n",
    "Lindblad dissipators can be included in a `Solver` object by specifying the additional `static_dissipators` key at construction. In the following, we instantiate the `Solver` for a 4.971852 GHz qubit (same as the `FakeArmonk` backend), a 20 MHz driving field oscillating at 5 GHz (AWG update frequency 4.5 GHz), and dissipation frequencies $\\Gamma_1$ = 8 kHz and $\\Gamma_2$ = 4 kHz. We then build a corresponding `Backend` from the `Solver` object that will be used in the rest of the laboratory. Notice that, since most of the simulations of this laboratory involve long delays, we enforce a maximum step for the simulations of `200dt`. "
   ]
  },
  {
   "cell_type": "code",
   "execution_count": 4,
   "metadata": {},
   "outputs": [],
   "source": [
    "#########################################\n",
    "# System specifications\n",
    "#########################################\n",
    "omega       = 2 * np.pi * 4.971852e9;       # Qubit pulsation [rad/s]\n",
    "Omega       = 2 * np.pi * 20e6;             # Rabi pulsation at maximum drive [rad/s]\n",
    "omegad      = 2 * np.pi * 5e9;              # Driving field frequency [rad/s]\n",
    "Gamma_1     = 8e3;                          # Energy relaxation frequency [Hz]\n",
    "Gamma_2     = 4e3;                          # Dephasing frequency [Hz]\n",
    "dt          = 1/(4.5e9);                    # AWG time step [s]\n",
    "\n",
    "#########################################\n",
    "# Pauli operators\n",
    "#########################################\n",
    "X = Operator.from_label('X'); \n",
    "Y = Operator.from_label('Y'); \n",
    "Z = Operator.from_label('Z'); \n",
    "I = Operator.from_label('I');\n",
    "\n",
    "#########################################\n",
    "# Hamiltonians and Lindbladians\n",
    "#########################################\n",
    "hdrift  = 1/2 * omega * Z; \n",
    "hdrive  = Omega * X;\n",
    "diss1   = np.sqrt(Gamma_1) * 0.5 * (X + 1j * Y);\n",
    "diss2   = np.sqrt(Gamma_2) * Z; \n",
    "\n",
    "#########################################\n",
    "# Backend construction\n",
    "#########################################\n",
    "solver  = Solver(static_hamiltonian=hdrift, hamiltonian_operators=[hdrive], hamiltonian_channels=[\"d0\"], rotating_frame=hdrift, channel_carrier_freqs={\"d0\":omegad/2/np.pi}, dt=dt, static_dissipators=[diss1,diss2]);\n",
    "backend = DynamicsBackend(solver=solver,solver_options={'max_step':200*dt});"
   ]
  },
  {
   "cell_type": "markdown",
   "metadata": {},
   "source": [
    "## Frequency calibration"
   ]
  },
  {
   "cell_type": "markdown",
   "metadata": {},
   "source": [
    "### Coarse drive frequency calibration <a class=\"anchor\" id=\"rough-calibration\"></a>\n",
    "Up to here, we have always considered the drive field to be perfectly tuned to the qubit frequency. However, this is typically not the case for a first-time setup: while the qubit frequency can be estimated from its design parameters, variability in the fabrication process can lead to slight deviations from the nominal values. As a consequence of this _detuning_, the rotating frame underneath the qubit is evolving at a slightly different frequency with respect to the qubit's precession, leading to spurious $z$-rotations and consequent gate errors.\n",
    "\n",
    "The driving frequency tuning is typically divided in two steps: in the first _coarse_ estimation, a frequency sweep is performed using an arbitrary pulse to stimulate the state excitation from $|0\\rangle$ to $|1\\rangle$. The frequency for which the excitation probability is maximum will lie in a neighbourhood of the qubit's frequency. Let's create a parametric `Schedule` for a 40-point frequency sweep from 4.8 GHz to 5.2 GHz (corresponding to a coarse frequency step of 10 MHz)."
   ]
  },
  {
   "cell_type": "code",
   "execution_count": 5,
   "metadata": {},
   "outputs": [
    {
     "data": {
      "image/png": "[encoded data removed]",
      "text/plain": [
       "<Figure size 640x480 with 1 Axes>"
      ]
     },
     "metadata": {},
     "output_type": "display_data"
    }
   ],
   "source": [
    "#########################################\n",
    "# Experiment parameters\n",
    "#########################################\n",
    "duration            = 128; \n",
    "pulse_amp           = 0.175;\n",
    "min_freq            = 4.8e9; \n",
    "max_freq            = 5.2e9; \n",
    "num_points          = 40; \n",
    "num_shots_per_point = 100\n",
    "\n",
    "#########################################\n",
    "# Parametric schedule creation\n",
    "#########################################\n",
    "freq_vec    = np.linspace(min_freq,max_freq,num_points); \n",
    "freq        = Parameter('freq')\n",
    "with pulse.build(default_alignment='sequential') as sweep_sched:\n",
    "    pulse.set_frequency(freq,pulse.DriveChannel(0)); \n",
    "    pulse.play(pulse.Constant(duration,\n",
    "                                pulse_amp,\n",
    "                                name=\"Excitation Pulse\"),\n",
    "                                pulse.DriveChannel(0)); \n",
    "    pulse.acquire(1,0,pulse.MemorySlot(0)); \n",
    "sweep_schedules = [sweep_sched.assign_parameters({freq: a}, inplace=False) for a in freq_vec]\n",
    "\n",
    "#########################################\n",
    "# Backend simulation\n",
    "#########################################\n",
    "job = backend.run(sweep_schedules,\n",
    "                  meas_level=2, \n",
    "                  meas_return='avg', \n",
    "                  shots=num_shots_per_point)\n",
    "results = job.result()\n",
    "\n",
    "#########################################\n",
    "# P1 computation\n",
    "#########################################\n",
    "sweep_values = []\n",
    "for i in range(len(results.get_counts())):\n",
    "    try:\n",
    "        p1 = results.get_counts(i)['1'];\n",
    "    except KeyError:\n",
    "        p1 = 0; \n",
    "    sweep_values.append(p1/num_shots_per_point)\n",
    "\n",
    "#########################################\n",
    "# Graphics\n",
    "#########################################\n",
    "plt.xlabel(\"Drive frequency [GHz]\")\n",
    "plt.ylabel(\"P$_1$ [a.u.]\")\n",
    "plt.scatter(freq_vec/1e9, sweep_values, color='black')\n",
    "plt.show()"
   ]
  },
  {
   "cell_type": "markdown",
   "metadata": {},
   "source": [
    "Notice that with the duration/drive amplitude combination we chose, the excitation is typically weak ($P_1$ < 0.1). We can slightly increase the pulse amplitude to get a clearer figure: "
   ]
  },
  {
   "cell_type": "code",
   "execution_count": null,
   "metadata": {},
   "outputs": [],
   "source": [
    "#########################################\n",
    "# Experiment parameters\n",
    "#########################################\n",
    "duration            = 128; \n",
    "pulse_amp           = 0.35;\n",
    "min_freq            = 4.8e9; \n",
    "max_freq            = 5.2e9; \n",
    "num_points          = 40; \n",
    "num_shots_per_point = 100\n",
    "\n",
    "#########################################\n",
    "# Parametric schedule creation\n",
    "#########################################\n",
    "freq_vec    = np.linspace(min_freq,max_freq,num_points); \n",
    "freq        = Parameter('freq')\n",
    "with pulse.build(default_alignment='sequential') as sweep_sched:\n",
    "    pulse.set_frequency(freq,pulse.DriveChannel(0)); \n",
    "    pulse.play(pulse.Constant(duration,pulse_amp,name=\"Excitation Pulse\"),pulse.DriveChannel(0)); \n",
    "    pulse.acquire(1,0,pulse.MemorySlot(0)); \n",
    "sweep_schedules = [sweep_sched.assign_parameters({freq: a}, inplace=False) for a in freq_vec]\n",
    "\n",
    "#########################################\n",
    "# Backend simulation\n",
    "#########################################\n",
    "job = backend.run(sweep_schedules, \n",
    "                  meas_level=2, \n",
    "                  meas_return='avg', \n",
    "                  shots=num_shots_per_point)\n",
    "results = job.result()\n",
    "\n",
    "#########################################\n",
    "# P1 computation\n",
    "#########################################\n",
    "sweep_values = []\n",
    "for i in range(len(results.get_counts())):\n",
    "    try:\n",
    "        p1 = results.get_counts(i)['1'];\n",
    "    except KeyError:\n",
    "        p1 = 0; \n",
    "    sweep_values.append(p1/num_shots_per_point)"
   ]
  },
  {
   "cell_type": "markdown",
   "metadata": {},
   "source": [
    "Results are plotted and fitted with a Lorentzian curve: \n",
    "\\begin{align}\n",
    "\\mathcal{L}(f) = \\frac{A}{\\pi} \\frac{B}{(f-f_0)^2 + B^2} + C\n",
    "\\end{align}\n",
    "where $f_0$ will be the estimated qubit frequency:"
   ]
  },
  {
   "cell_type": "code",
   "execution_count": 6,
   "metadata": {},
   "outputs": [
    {
     "name": "stdout",
     "output_type": "stream",
     "text": [
      "Estimated qubit frequency: 4.9757 GHz\n"
     ]
    },
    {
     "data": {
      "image/png": "[encoded data removed]",
      "text/plain": [
       "<Figure size 640x480 with 1 Axes>"
      ]
     },
     "metadata": {},
     "output_type": "display_data"
    }
   ],
   "source": [
    "#########################################\n",
    "# Curve fitting\n",
    "#########################################\n",
    "fit_params, y_fit = fit_function(freq_vec/1e9,\n",
    "                                 np.real(sweep_values), \n",
    "                                 lambda x, A, q_freq, B, C: (A / np.pi) * (B / ((x - q_freq)**2 + B**2)) + C,\n",
    "                                 [1, 4.94, 0.01, -0.001] # initial parameters for curve_fit\n",
    "                                )\n",
    "rough_f = fit_params[1] * 1e9; \n",
    "print(f\"Estimated qubit frequency: {rough_f/1e9:.4f} GHz\")\n",
    "\n",
    "#########################################\n",
    "# Graphics\n",
    "#########################################\n",
    "plt.xlabel(\"Drive frequency [GHz]\")\n",
    "plt.ylabel(\"P$_1$ [a.u.]\")\n",
    "plt.scatter(freq_vec/1e9, sweep_values, color='black')\n",
    "plt.plot(freq_vec/1e9, y_fit, color='red')\n",
    "plt.show()"
   ]
  },
  {
   "cell_type": "markdown",
   "metadata": {},
   "source": [
    "The higher probability gives us a higher confidence on the estimated qubit frequency as we move away from the noise floor. Since our frequency sweep used a 10 MHz frequency step, we can now be confident that the real qubit frequency will lie in a less-than-10 MHz neighborhood of this estimated frequency. Detuning effects will thus have time constants in the order of (at minimum) 1/10 MHz = 100 ns. As long as we keep our experiments shorter than 100 ns, we can be confident that our experiments will be mostly unaffected by detuning. We can thus perform a first Rabi calibration to obtain the $\\pi$-amplitude: "
   ]
  },
  {
   "cell_type": "code",
   "execution_count": 7,
   "metadata": {},
   "outputs": [],
   "source": [
    "#########################################\n",
    "# Experiment parameters\n",
    "#########################################\n",
    "num_points          = 50;\n",
    "duration            = 128; \n",
    "drive_amp_min       = 0;\n",
    "drive_amp_max       = 1.;\n",
    "num_shots_per_point = 100;\n",
    "\n",
    "#########################################\n",
    "# Parametric schedule creation\n",
    "#########################################\n",
    "drive_amps  = np.linspace(drive_amp_min, drive_amp_max, num_points)\n",
    "drive_amp   = Parameter('drive_amp')\n",
    "with pulse.build(default_alignment='sequential') as rabi_sched:\n",
    "    pulse.set_frequency(rough_f,pulse.DriveChannel(0)); \n",
    "    pulse.play(pulse.Constant(duration,\n",
    "                                drive_amp,\n",
    "                                name=\"Rabi Pulse\"),\n",
    "                                pulse.DriveChannel(0)); \n",
    "    pulse.acquire(1,0,pulse.MemorySlot(0)); \n",
    "rabi_schedules = [rabi_sched.assign_parameters({drive_amp: a}, inplace=False) for a in drive_amps]\n",
    "\n",
    "#########################################\n",
    "# Backend simulation\n",
    "#########################################\n",
    "job = backend.run(rabi_schedules, \n",
    "                  meas_level=2, \n",
    "                  meas_return='avg', \n",
    "                  shots=num_shots_per_point)\n",
    "rabi_results = job.result()"
   ]
  },
  {
   "cell_type": "markdown",
   "metadata": {},
   "source": [
    "As usual, we plot and fit the results with a sinusoidal shape: "
   ]
  },
  {
   "cell_type": "code",
   "execution_count": 8,
   "metadata": {},
   "outputs": [
    {
     "name": "stdout",
     "output_type": "stream",
     "text": [
      "Pi Amplitude = 0.8509630893475784\n",
      "Pi/2 Amplitude = 0.4254815446737892\n"
     ]
    },
    {
     "data": {
      "image/png": "[encoded data removed]",
      "text/plain": [
       "<Figure size 640x480 with 1 Axes>"
      ]
     },
     "metadata": {},
     "output_type": "display_data"
    }
   ],
   "source": [
    "#########################################\n",
    "# P1 computation\n",
    "#########################################\n",
    "rabi_values = []\n",
    "for i in range(num_points):\n",
    "    try:\n",
    "        p1 = rabi_results.get_counts(i)['1'];\n",
    "    except KeyError:\n",
    "        p1 = 0; \n",
    "    rabi_values.append(p1/num_shots_per_point)\n",
    "\n",
    "#########################################\n",
    "# Curve fitting\n",
    "#########################################\n",
    "fit_params, y_fit = fit_function(drive_amps,\n",
    "                                 rabi_values, \n",
    "                                 lambda x, A, B, drive_period, phi: (A*np.sin(2*np.pi*x/drive_period - phi) + B),\n",
    "                                 [0.5, -0.5, 2, 0])\n",
    "pi_amp = abs(fit_params[2] / 2)\n",
    "print(f\"Pi Amplitude = {pi_amp}\")\n",
    "print(f\"Pi/2 Amplitude = {pi_amp/2}\")\n",
    "\n",
    "#########################################\n",
    "# Graphics\n",
    "#########################################\n",
    "plt.scatter(drive_amps, rabi_values, color='black')\n",
    "plt.plot(drive_amps, y_fit, color='red')\n",
    "plt.axvline(pi_amp, color='red', linestyle='--')\n",
    "plt.axvline(0, color='red', linestyle='--')\n",
    "plt.annotate(\"\", xy=(0, 0.5), xytext=(pi_amp,0.5), arrowprops=dict(arrowstyle=\"<->\", color='red'))\n",
    "plt.annotate(\"$\\pi$\", xy=(pi_amp * .8, 0.52), color='red')\n",
    "plt.xlabel(\"Drive amp [a.u.]\", fontsize=15)\n",
    "plt.ylabel(\"P$_1$\", fontsize=15)\n",
    "plt.show()"
   ]
  },
  {
   "cell_type": "markdown",
   "metadata": {},
   "source": [
    "We can create shorthands for an X90 and a $\\pi$ pulse:"
   ]
  },
  {
   "cell_type": "code",
   "execution_count": null,
   "metadata": {},
   "outputs": [],
   "source": [
    "#########################################\n",
    "# X-90 pulse creation\n",
    "#########################################\n",
    "with pulse.build(default_alignment='sequential') as x_pihalf:\n",
    "    pulse.play(pulse.Constant(duration,pi_amp/2,name=\"$\\pi/2$-Rabi Pulse\"),pulse.DriveChannel(0)); \n",
    "\n",
    "#########################################\n",
    "# X pulse creation\n",
    "#########################################\n",
    "with pulse.build(default_alignment='sequential') as x_pi:\n",
    "    pulse.play(pulse.Constant(duration,pi_amp,name=\"$\\pi$-Rabi Pulse\"),pulse.DriveChannel(0)); "
   ]
  },
  {
   "cell_type": "markdown",
   "metadata": {},
   "source": [
    "### Drive frequency fine-tuning: Ramsey experiment <a class=\"anchor\" id=\"ramsey-experiment\"></a>\n",
    "Rabi pulses calibrated using the _coarse_ procedure can now be used for the second step of the frequency tuning procedure, _i.e._ the _fine_ tuning. Fine tuning is performed by means of the Ramsey experiment, comprising two $\\pi/2$-pulses separated by an increasing delay. Owing to the qubit's precession due to detuning, the overall probability of measuring the $|1\\rangle$ state will depend on the delay being in-phase with the detuning between the drive field and the qubit's frequency. The typical Ramsey experiment $P_1$ output shows oscillations at a frequency corresponding to the drive-qubit detuning. \n",
    "\n",
    "Owing to the structure of the frequency sweep we performed, the current detuning between the drive field and the qubit can lie anywhere in the [0,10 MHz] interval. Small detunings can therefore lead to potentially long delays required to observe oscillations, triggering relaxation and dephasing effects which may alter the experiment and destroy the quantum state. As such, we add a forced detuning of 10 MHz on the drive in order to accelerate the Ramsey oscillations."
   ]
  },
  {
   "cell_type": "code",
   "execution_count": null,
   "metadata": {},
   "outputs": [],
   "source": [
    "#########################################\n",
    "# Experiment parameters\n",
    "#########################################\n",
    "num_points          = 20;       # Number of delays to test\n",
    "delay_dt            = 64;       # Delay increment between schedules [dt]\n",
    "detune              = 10e6;     # Forced detuning [Hz]\n",
    "num_shots_per_point = 1000; \n",
    "\n",
    "#########################################\n",
    "# Parametric schedule construction\n",
    "#########################################\n",
    "delay = Parameter('delay')\n",
    "with pulse.build(default_alignment='sequential') as rams_sched:\n",
    "    pulse.set_frequency(rough_f+detune,pulse.DriveChannel(0)); \n",
    "    pulse.call(x_pihalf);\n",
    "    pulse.delay(delay,pulse.DriveChannel(0)); \n",
    "    pulse.call(x_pihalf); \n",
    "    pulse.acquire(1,0,pulse.MemorySlot(0)); \n",
    "delay_vec       = np.linspace(0,(num_points-1),num_points)*delay_dt;\n",
    "rams_schedules  = [rams_sched.assign_parameters({delay: a}, inplace=False) for a in delay_vec]\n",
    "\n",
    "#########################################\n",
    "# Backend simulation\n",
    "#########################################\n",
    "job = backend.run(rams_schedules, \n",
    "                  meas_level=2, \n",
    "                  meas_return='avg', \n",
    "                  shots=num_shots_per_point)\n",
    "results = job.result()"
   ]
  },
  {
   "cell_type": "markdown",
   "metadata": {},
   "source": [
    "We can plot the probability of measuring the $|1\\rangle$ state to estimate the Ramsey frequency, which includes the forced detuning and the effective (natural) detuning: "
   ]
  },
  {
   "cell_type": "code",
   "execution_count": null,
   "metadata": {},
   "outputs": [],
   "source": [
    "#########################################\n",
    "# P1 computation\n",
    "#########################################\n",
    "rams_values = []\n",
    "for i in range(num_points):\n",
    "    try:\n",
    "        p1 = results.get_counts(i)['1'];\n",
    "    except KeyError:\n",
    "        p1 = 0; \n",
    "    rams_values.append(p1/num_shots_per_point)\n",
    "\n",
    "#########################################\n",
    "# Curve fitting\n",
    "#########################################\n",
    "delay_times         = delay_vec*dt; \n",
    "fit_params, y_fit   = fit_function(delay_times,\n",
    "                                   rams_values,\n",
    "                                   lambda x, A, B, delay_period, phi: (A*np.sin(2*np.pi*x/delay_period - phi) + B),\n",
    "                                   [0.5, -0.5, 100e-9, 0])\n",
    "delay_period    = fit_params[2];\n",
    "ramsey_f        = 1/delay_period; \n",
    "qubit_f         = rough_f - (ramsey_f - detune); \n",
    "print(f\"Ramsey frequency (natural + forced): {ramsey_f/1e6:.3f} MHz\")\n",
    "print(f\"Ramsey frequency (natural): {(ramsey_f-detune)/1e6:.3f} MHz\")\n",
    "print(f\"Updated drive frequency: {(-ramsey_f+rough_f+detune)/1e9:.6f} GHz\")\n",
    "print(f\"Detuning: {(qubit_f-omega/2/np.pi)/1e3:.3f} kHz\")\n",
    "\n",
    "#########################################\n",
    "# Graphics\n",
    "#########################################\n",
    "plt.scatter(delay_times/1e-9, rams_values, color='black')\n",
    "plt.plot(delay_times/1e-9, y_fit, color='red')\n",
    "plt.axvline((delay_times[0] + delay_period/2)/1e-9, color='red', linestyle='--')\n",
    "plt.axvline((delay_times[0])/1e-9, color='red', linestyle='--')\n",
    "plt.annotate(\"\", xy=(delay_times[0]/1e-9, 0.5), xytext=((delay_times[0] + delay_period/2)/1e-9,0.5), arrowprops=dict(arrowstyle=\"<->\", color='red'))\n",
    "plt.annotate(\"$\\pi$\", xy=((delay_times[0] + delay_period/4)/1e-9, 0.52), color='red')\n",
    "plt.xlabel(\"Delay time [ns]\", fontsize=15)\n",
    "plt.ylabel(\"P$_1$\", fontsize=15)\n",
    "plt.show()"
   ]
  },
  {
   "cell_type": "markdown",
   "metadata": {},
   "source": [
    "Notice how the estimated frequency now matches the qubit's frequency to within the kHz range, effectively providing detuning times in the order of ~ms, which are typically far larger than dissipative time constants."
   ]
  },
  {
   "cell_type": "markdown",
   "metadata": {},
   "source": [
    "### Rabi pulse fine-tuning"
   ]
  },
  {
   "cell_type": "markdown",
   "metadata": {},
   "source": [
    "Using the updated frequency, we can now fine-tune also the Rabi pulses: "
   ]
  },
  {
   "cell_type": "code",
   "execution_count": null,
   "metadata": {},
   "outputs": [],
   "source": [
    "#########################################\n",
    "# Experiment parameters\n",
    "#########################################\n",
    "num_points          = 50\n",
    "duration            = 128; \n",
    "drive_amp_min       = 0\n",
    "drive_amp_max       = 1.\n",
    "num_shots_per_point = 100\n",
    "\n",
    "#########################################\n",
    "# Parametric schedule creation\n",
    "#########################################\n",
    "drive_amp = Parameter('drive_amp')\n",
    "with pulse.build() as rabi_sched:\n",
    "    with pulse.align_sequential():\n",
    "        pulse.set_frequency(qubit_f,pulse.DriveChannel(0)); \n",
    "        pulse.play(pulse.Constant(duration,\n",
    "                                  drive_amp,\n",
    "                                  name=\"Rabi Pulse\"),\n",
    "                   pulse.DriveChannel(0)); \n",
    "        pulse.acquire(1,0,pulse.MemorySlot(0)); \n",
    "drive_amps = np.linspace(drive_amp_min, drive_amp_max, num_points)\n",
    "rabi_schedules = [rabi_sched.assign_parameters({drive_amp: a}, inplace=False) for a in drive_amps]\n",
    "\n",
    "#########################################\n",
    "# Backend simulation\n",
    "#########################################\n",
    "job = backend.run(rabi_schedules, \n",
    "                  meas_level=2, \n",
    "                  meas_return='avg', \n",
    "                  shots=num_shots_per_point)\n",
    "rabi_results = job.result()\n",
    "\n",
    "#########################################\n",
    "# P1 computation\n",
    "#########################################\n",
    "rabi_values = []\n",
    "for i in range(num_points):\n",
    "    try:\n",
    "        p1 = rabi_results.get_counts(i)['1'];\n",
    "    except KeyError:\n",
    "        p1 = 0; \n",
    "    rabi_values.append(p1/num_shots_per_point)\n",
    "\n",
    "#########################################\n",
    "# Curve fitting\n",
    "#########################################\n",
    "fit_params, y_fit = fit_function(drive_amps,\n",
    "                                 rabi_values, \n",
    "                                 lambda x, A, B, drive_period, phi: (A*np.sin(2*np.pi*x/drive_period - phi) + B),\n",
    "                                 [0.5, -0.5, 2, 0])\n",
    "pi_amp = abs(fit_params[2] / 2)\n",
    "print(f\"Pi Amplitude = {pi_amp}\")\n",
    "print(f\"Pi/2 Amplitude = {pi_amp/2}\")\n",
    "\n",
    "#########################################\n",
    "# Graphics\n",
    "#########################################\n",
    "plt.scatter(drive_amps, rabi_values, color='black')\n",
    "plt.plot(drive_amps, y_fit, color='red')\n",
    "plt.axvline(pi_amp, color='red', linestyle='--')\n",
    "plt.axvline(0, color='red', linestyle='--')\n",
    "plt.annotate(\"\", xy=(0, 0.5), xytext=(pi_amp,0.5), arrowprops=dict(arrowstyle=\"<->\", color='red'))\n",
    "plt.annotate(\"$\\pi$\", xy=(pi_amp * .8, 0.52), color='red')\n",
    "plt.xlabel(\"Drive amp [a.u.]\", fontsize=15)\n",
    "plt.ylabel(\"P$_1$\", fontsize=15)\n",
    "plt.show()"
   ]
  },
  {
   "cell_type": "markdown",
   "metadata": {},
   "source": [
    "Similarly, we update our shorthands for the $\\pi/2$ and $\\pi$ pulses: "
   ]
  },
  {
   "cell_type": "code",
   "execution_count": null,
   "metadata": {},
   "outputs": [],
   "source": [
    "#########################################\n",
    "# X-90 pulse creation\n",
    "#########################################\n",
    "with pulse.build(default_alignment='sequential') as x_pihalf:\n",
    "    pulse.play(pulse.Constant(duration,pi_amp/2,name=\"$\\pi/2$-Rabi Pulse\"),pulse.DriveChannel(0)); \n",
    "\n",
    "#########################################\n",
    "# X pulse creation\n",
    "#########################################\n",
    "with pulse.build(default_alignment='sequential') as x_pi:\n",
    "    pulse.play(pulse.Constant(duration,pi_amp,name=\"$\\pi$-Rabi Pulse\"),pulse.DriveChannel(0)); "
   ]
  },
  {
   "cell_type": "markdown",
   "metadata": {},
   "source": [
    "## $T_1$ characterization: inversion recovery <a class=\"anchor\" id=\"inversion-recovery\"></a>\n",
    "The introduction of energy relaxation effects leads to the state collapsing to $|0\\rangle$ after a finite time after excitation to the $|1\\rangle$ state, due to the qubit's energy dissipating. The energy relaxation is typically measured using the $T_1$ metric, corresponding to the decay time constant of the excited state relaxation. To measure the $T_1$, we perform an _inversion recovery_ experiment by first exciting the qubit to the $|1\\rangle$ state using a calibrated $\\pi$-pulse, and then measuring the qubit state after increasing delays. "
   ]
  },
  {
   "cell_type": "code",
   "execution_count": null,
   "metadata": {},
   "outputs": [],
   "source": [
    "#########################################\n",
    "# Experiment parameters\n",
    "#########################################\n",
    "num_points          = 10;       # Number of delays to test\n",
    "delay_dt            = 131072;   # Delay increment between schedules [dt]\n",
    "num_shots_per_point = 100\n",
    "\n",
    "#########################################\n",
    "# Parametric schedule creation\n",
    "#########################################\n",
    "delay = Parameter('delay')\n",
    "with pulse.build(default_alignment='sequential') as t1_sched:\n",
    "        pulse.set_frequency(qubit_f,pulse.DriveChannel(0)); \n",
    "        pulse.call(x_pi); \n",
    "        pulse.delay(delay,pulse.DriveChannel(0)); \n",
    "        pulse.acquire(1,0,pulse.MemorySlot(0)); \n",
    "delay_vec   = np.linspace(0,(num_points-1),num_points)*delay_dt; \n",
    "t1_scheds   = [t1_sched.assign_parameters({delay: a}, inplace=False) for a in delay_vec]\n",
    "\n",
    "#########################################\n",
    "# Backend simulation\n",
    "#########################################\n",
    "job = backend.run(t1_scheds, \n",
    "                  meas_level=2, \n",
    "                  meas_return='avg', \n",
    "                  shots=num_shots_per_point)\n",
    "t1_results = job.result()"
   ]
  },
  {
   "cell_type": "markdown",
   "metadata": {},
   "source": [
    "We fit the results with an exponential decay: \n",
    "\\begin{align}\n",
    "E(t) = Ae^{-\\frac{x}{T}}+C\n",
    "\\end{align}\n",
    "where $T$ corresponds to the $T_1$ relaxation time. "
   ]
  },
  {
   "cell_type": "code",
   "execution_count": null,
   "metadata": {},
   "outputs": [],
   "source": [
    "#########################################\n",
    "# P1 computation\n",
    "#########################################\n",
    "t1_values = []\n",
    "for i in range(num_points):\n",
    "    try:\n",
    "        p1 = t1_results.get_counts(i)['1'];\n",
    "    except KeyError:\n",
    "        p1 = 0; \n",
    "    t1_values.append(p1/num_shots_per_point)\n",
    "\n",
    "#########################################\n",
    "# Curve fitting\n",
    "#########################################\n",
    "fit_params, y_fit = fit_function(delay_vec*dt,\n",
    "                                 t1_values, \n",
    "                                 lambda x, T, A, C: A*np.exp(-x/T)+C,\n",
    "                                 [10e-6,1,0])\n",
    "T1 = fit_params[0];\n",
    "print(f\"T1 = {T1/1e-6:.3f} us\")\n",
    "\n",
    "#########################################\n",
    "# Graphics\n",
    "#########################################\n",
    "plt.scatter(delay_vec*dt/1e-6, t1_values, color='black')\n",
    "plt.plot(delay_vec*dt/1e-6, y_fit, color='red')\n",
    "plt.xlabel(\"Delay [$\\mu$s]\", fontsize=15)\n",
    "plt.ylabel(\"P$_1$\", fontsize=15)\n",
    "plt.show()"
   ]
  },
  {
   "cell_type": "markdown",
   "metadata": {},
   "source": [
    "## T2 characterization: Hahn echoes <a class=\"anchor\" id=\"hahn-echoes\"></a>\n",
    "The second dissipative effect we consider is dephasing, which is typically a result of the qubit's frequency broadening around its center frequency, either due to nonuniformities or band widening effects. Dephasing is typically characterized by the $T_2$ metric, namely the time after which a quantum superposition of $|0\\rangle$ and $|1\\rangle$ with definite phase (_e.g._ a $|+\\rangle$ state) becomes a classical mixture of $|+\\rangle$ and $|-\\rangle$ states. $T_2$ is typically measured performing Hahn echoes experiments, consisting of:\n",
    "- a first $\\pi/2$-pulse to bring the state in the $xy$-plane;\n",
    "- a delay of time $t_0$, during which the qubit dephases;\n",
    "- a $\\pi$-pulse to reverse the qubit phase in the $xy$ plane;\n",
    "- a delay of time $t_0$, during which the qubit rephases;\n",
    "- an echo $\\pi/2$-pulse to bring the state back to $|0\\rangle$. "
   ]
  },
  {
   "cell_type": "code",
   "execution_count": null,
   "metadata": {},
   "outputs": [],
   "source": [
    "#########################################\n",
    "# Experiment parameters\n",
    "#########################################\n",
    "num_points          = 15;\n",
    "delay_dt            = 81920; \n",
    "num_shots_per_point = 100;\n",
    "\n",
    "#########################################\n",
    "# Experiment parameters\n",
    "#########################################\n",
    "delay = Parameter('delay')\n",
    "with pulse.build(default_alignment='sequential') as t2_sched:\n",
    "    pulse.set_frequency(qubit_f,pulse.DriveChannel(0)); \n",
    "    pulse.call(x_pihalf);     \n",
    "\n",
    "    pulse.delay(delay,pulse.DriveChannel(0)); \n",
    "    pulse.call(x_pi); \n",
    "    pulse.delay(delay,pulse.DriveChannel(0)); \n",
    "\n",
    "    pulse.call(x_pihalf); \n",
    "    pulse.acquire(1,0,pulse.MemorySlot(0));\n",
    "delay_vec   = np.linspace(0,num_points-1,num_points)*delay_dt; \n",
    "t2_scheds = [t2_sched.assign_parameters({delay: a}, inplace=False) for a in delay_vec]\n",
    "\n",
    "#########################################\n",
    "# Backend simulation\n",
    "#########################################\n",
    "job = backend.run(t2_scheds, \n",
    "                  meas_level=2, \n",
    "                  meas_return='avg', \n",
    "                  shots=num_shots_per_point)\n",
    "t2_results = job.result()"
   ]
  },
  {
   "cell_type": "markdown",
   "metadata": {},
   "source": [
    "We can similarly fit the resulting curve with an exponential decay. Notice that, since the state relaxes towards a classical mixture of $|+\\rangle$ and $|-\\rangle$, the probability of measuring $|0\\rangle$ at large delay times approaches 0.5:\n",
    "\\begin{align}\n",
    "E(t) = Ae^{-\\frac{x}{T}}+C\n",
    "\\end{align}"
   ]
  },
  {
   "cell_type": "code",
   "execution_count": null,
   "metadata": {},
   "outputs": [],
   "source": [
    "#########################################\n",
    "# P0 computation\n",
    "#########################################\n",
    "t2_values = []\n",
    "for i in range(len(delay_vec)):\n",
    "    try:\n",
    "        p0 = t2_results.get_counts(i)['0'];\n",
    "    except KeyError:\n",
    "        p0 = 0; \n",
    "    t2_values.append(p0/num_shots_per_point)\n",
    "\n",
    "#########################################\n",
    "# Curve fitting\n",
    "#########################################\n",
    "fit_params, y_fit = fit_function(delay_vec*dt,\n",
    "                                 t2_values, \n",
    "                                 lambda x, T, A, C: A*np.exp(-x/T)+C,\n",
    "                                 [10e-6,0.5,0.5])\n",
    "T2 = fit_params[0]; \n",
    "print(f\"T2 = {T2/1e-6} us\")\n",
    "\n",
    "#########################################\n",
    "# Graphics\n",
    "#########################################\n",
    "plt.scatter(delay_vec*dt/1e-6, t2_values, color='black')\n",
    "plt.plot(delay_vec*dt/1e-6, y_fit, color='red')\n",
    "plt.axhline(0.5, color='red', linestyle='--')\n",
    "plt.xlabel(\"X90-$\\pi$ delay [$\\mu$s]\", fontsize=15)\n",
    "plt.ylabel(\"P$_0$\", fontsize=15)\n",
    "plt.ylim([0,1]);\n",
    "plt.show()"
   ]
  }
 ],
 "metadata": {
  "kernelspec": {
   "display_name": "Python 3 (ipykernel)",
   "language": "python",
   "name": "python3"
  },
  "language_info": {
   "codemirror_mode": {
    "name": "ipython",
    "version": 3
   },
   "file_extension": ".py",
   "mimetype": "text/x-python",
   "name": "python",
   "nbconvert_exporter": "python",
   "pygments_lexer": "ipython3",
   "version": "3.8.18"
  }
 },
 "nbformat": 4,
 "nbformat_minor": 4
}
